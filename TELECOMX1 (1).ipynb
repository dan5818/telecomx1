{
  "nbformat": 4,
  "nbformat_minor": 0,
  "metadata": {
    "colab": {
      "provenance": []
    },
    "kernelspec": {
      "name": "python3",
      "display_name": "Python 3"
    },
    "language_info": {
      "name": "python"
    }
  },
  "cells": [
    {
      "cell_type": "markdown",
      "source": [
        "TELECOM X"
      ],
      "metadata": {
        "id": "sQy9RpDQOq-M"
      }
    },
    {
      "cell_type": "code",
      "source": [
        "import pandas as pd\n",
        "import requests\n",
        "\n",
        "URL = \"https://raw.githubusercontent.com/ingridcristh/challenge2-data-science-LATAM/main/TelecomX_Data.json\"\n",
        "\n",
        "resp = requests.get(URL, timeout=60)\n",
        "resp.raise_for_status()\n",
        "data = resp.json()\n",
        "\n",
        "# Si viene como dict, intenta desanidar el payload más común\n",
        "if isinstance(data, dict):\n",
        "    for key in [\"data\",\"results\",\"items\",\"payload\",\"clientes\",\"customers\"]:\n",
        "        if key in data and isinstance(data[key], list):\n",
        "            data = data[key]\n",
        "            break\n",
        "\n",
        "df = pd.json_normalize(data)  # maneja anidados si los hay\n",
        "\n",
        "# Normalizamos la etiqueta de churn a binaria (0/1)\n",
        "if \"Churn\" in df.columns:\n",
        "    df[\"Churn\"] = (df[\"Churn\"].astype(str)\n",
        "                   .str.strip().str.lower()\n",
        "                   .map({\"yes\":1,\"no\":0,\"1\":1,\"0\":0}))\n",
        "# Tipos numéricos comunes\n",
        "for col in [\"MonthlyCharges\",\"TotalCharges\",\"tenure\",\"SeniorCitizen\"]:\n",
        "    if col in df.columns:\n",
        "        df[col] = pd.to_numeric(df[col], errors=\"coerce\")\n",
        "\n",
        "df.head(), df.info()\n"
      ],
      "metadata": {
        "colab": {
          "base_uri": "https://localhost:8080/"
        },
        "id": "MGGpnxLFOpuC",
        "outputId": "6c82b7dd-9985-41f6-a495-588514c5d2f1"
      },
      "execution_count": 23,
      "outputs": [
        {
          "output_type": "stream",
          "name": "stdout",
          "text": [
            "<class 'pandas.core.frame.DataFrame'>\n",
            "RangeIndex: 7267 entries, 0 to 7266\n",
            "Data columns (total 21 columns):\n",
            " #   Column                     Non-Null Count  Dtype  \n",
            "---  ------                     --------------  -----  \n",
            " 0   customerID                 7267 non-null   object \n",
            " 1   Churn                      7043 non-null   float64\n",
            " 2   customer.gender            7267 non-null   object \n",
            " 3   customer.SeniorCitizen     7267 non-null   int64  \n",
            " 4   customer.Partner           7267 non-null   object \n",
            " 5   customer.Dependents        7267 non-null   object \n",
            " 6   customer.tenure            7267 non-null   int64  \n",
            " 7   phone.PhoneService         7267 non-null   object \n",
            " 8   phone.MultipleLines        7267 non-null   object \n",
            " 9   internet.InternetService   7267 non-null   object \n",
            " 10  internet.OnlineSecurity    7267 non-null   object \n",
            " 11  internet.OnlineBackup      7267 non-null   object \n",
            " 12  internet.DeviceProtection  7267 non-null   object \n",
            " 13  internet.TechSupport       7267 non-null   object \n",
            " 14  internet.StreamingTV       7267 non-null   object \n",
            " 15  internet.StreamingMovies   7267 non-null   object \n",
            " 16  account.Contract           7267 non-null   object \n",
            " 17  account.PaperlessBilling   7267 non-null   object \n",
            " 18  account.PaymentMethod      7267 non-null   object \n",
            " 19  account.Charges.Monthly    7267 non-null   float64\n",
            " 20  account.Charges.Total      7267 non-null   object \n",
            "dtypes: float64(2), int64(2), object(17)\n",
            "memory usage: 1.2+ MB\n"
          ]
        },
        {
          "output_type": "execute_result",
          "data": {
            "text/plain": [
              "(   customerID  Churn customer.gender  customer.SeniorCitizen customer.Partner customer.Dependents  customer.tenure phone.PhoneService phone.MultipleLines internet.InternetService internet.OnlineSecurity internet.OnlineBackup internet.DeviceProtection internet.TechSupport internet.StreamingTV internet.StreamingMovies account.Contract account.PaperlessBilling account.PaymentMethod  account.Charges.Monthly account.Charges.Total\n",
              " 0  0002-ORFBO    0.0          Female                       0              Yes                 Yes                9                Yes                  No                      DSL                      No                   Yes                        No                  Yes                  Yes                       No         One year                      Yes          Mailed check                     65.6                 593.3\n",
              " 1  0003-MKNFE    0.0            Male                       0               No                  No                9                Yes                 Yes                      DSL                      No                    No                        No                   No                   No                      Yes   Month-to-month                       No          Mailed check                     59.9                 542.4\n",
              " 2  0004-TLHLJ    1.0            Male                       0               No                  No                4                Yes                  No              Fiber optic                      No                    No                       Yes                   No                   No                       No   Month-to-month                      Yes      Electronic check                     73.9                280.85\n",
              " 3  0011-IGKFF    1.0            Male                       1              Yes                  No               13                Yes                  No              Fiber optic                      No                   Yes                       Yes                   No                  Yes                      Yes   Month-to-month                      Yes      Electronic check                     98.0               1237.85\n",
              " 4  0013-EXCHZ    1.0          Female                       1              Yes                  No                3                Yes                  No              Fiber optic                      No                    No                        No                  Yes                  Yes                       No   Month-to-month                      Yes          Mailed check                     83.9                 267.4,\n",
              " None)"
            ]
          },
          "metadata": {},
          "execution_count": 23
        }
      ]
    },
    {
      "cell_type": "markdown",
      "source": [
        "transformacion"
      ],
      "metadata": {
        "id": "OXf0Vc3bVT_3"
      }
    },
    {
      "cell_type": "code",
      "source": [
        "# Exploración de las columnas del dataset\n",
        "pd.set_option('display.max_colwidth', None)\n",
        "pd.set_option('display.max_columns', None)\n",
        "pd.set_option('display.width', 1000)\n",
        "print(df.columns.tolist())\n",
        "print(\"\\n\" + \"=\"*50 + \"\\n\")\n",
        "print(df.head())\n",
        "print(\"\\n\" + \"=\"*50 + \"\\n\")\n",
        "\n",
        "# Verificación de los tipos de datos de las columnas del dataset\n",
        "print(df.dtypes)"
      ],
      "metadata": {
        "colab": {
          "base_uri": "https://localhost:8080/"
        },
        "id": "tsmAOu3nVSzP",
        "outputId": "39608154-e02d-4829-e8c6-e8344cf533e8"
      },
      "execution_count": 24,
      "outputs": [
        {
          "output_type": "stream",
          "name": "stdout",
          "text": [
            "['customerID', 'Churn', 'customer.gender', 'customer.SeniorCitizen', 'customer.Partner', 'customer.Dependents', 'customer.tenure', 'phone.PhoneService', 'phone.MultipleLines', 'internet.InternetService', 'internet.OnlineSecurity', 'internet.OnlineBackup', 'internet.DeviceProtection', 'internet.TechSupport', 'internet.StreamingTV', 'internet.StreamingMovies', 'account.Contract', 'account.PaperlessBilling', 'account.PaymentMethod', 'account.Charges.Monthly', 'account.Charges.Total']\n",
            "\n",
            "==================================================\n",
            "\n",
            "   customerID  Churn customer.gender  customer.SeniorCitizen customer.Partner customer.Dependents  customer.tenure phone.PhoneService phone.MultipleLines internet.InternetService internet.OnlineSecurity internet.OnlineBackup internet.DeviceProtection internet.TechSupport internet.StreamingTV internet.StreamingMovies account.Contract account.PaperlessBilling account.PaymentMethod  account.Charges.Monthly account.Charges.Total\n",
            "0  0002-ORFBO    0.0          Female                       0              Yes                 Yes                9                Yes                  No                      DSL                      No                   Yes                        No                  Yes                  Yes                       No         One year                      Yes          Mailed check                     65.6                 593.3\n",
            "1  0003-MKNFE    0.0            Male                       0               No                  No                9                Yes                 Yes                      DSL                      No                    No                        No                   No                   No                      Yes   Month-to-month                       No          Mailed check                     59.9                 542.4\n",
            "2  0004-TLHLJ    1.0            Male                       0               No                  No                4                Yes                  No              Fiber optic                      No                    No                       Yes                   No                   No                       No   Month-to-month                      Yes      Electronic check                     73.9                280.85\n",
            "3  0011-IGKFF    1.0            Male                       1              Yes                  No               13                Yes                  No              Fiber optic                      No                   Yes                       Yes                   No                  Yes                      Yes   Month-to-month                      Yes      Electronic check                     98.0               1237.85\n",
            "4  0013-EXCHZ    1.0          Female                       1              Yes                  No                3                Yes                  No              Fiber optic                      No                    No                        No                  Yes                  Yes                       No   Month-to-month                      Yes          Mailed check                     83.9                 267.4\n",
            "\n",
            "==================================================\n",
            "\n",
            "customerID                    object\n",
            "Churn                        float64\n",
            "customer.gender               object\n",
            "customer.SeniorCitizen         int64\n",
            "customer.Partner              object\n",
            "customer.Dependents           object\n",
            "customer.tenure                int64\n",
            "phone.PhoneService            object\n",
            "phone.MultipleLines           object\n",
            "internet.InternetService      object\n",
            "internet.OnlineSecurity       object\n",
            "internet.OnlineBackup         object\n",
            "internet.DeviceProtection     object\n",
            "internet.TechSupport          object\n",
            "internet.StreamingTV          object\n",
            "internet.StreamingMovies      object\n",
            "account.Contract              object\n",
            "account.PaperlessBilling      object\n",
            "account.PaymentMethod         object\n",
            "account.Charges.Monthly      float64\n",
            "account.Charges.Total         object\n",
            "dtype: object\n"
          ]
        }
      ]
    },
    {
      "cell_type": "markdown",
      "source": [
        "comprobacion de calidad\n"
      ],
      "metadata": {
        "id": "Vj2w5lgfVg1G"
      }
    },
    {
      "cell_type": "code",
      "source": [
        "# 1) Valores ausentes\n",
        "print(\"1. Verificación de valores ausentes:\")\n",
        "print(df.isnull().sum())\n",
        "print(\"\\n\" + \"=\"*50 + \"\\n\")\n",
        "# 2) Filas duplicadas (en columnas no anidadas)\n",
        "print(\"2. Verificación de valores duplicados:\")\n",
        "print(df[['customerID', 'Churn']].duplicated().sum())\n",
        "print(\"\\n\" + \"=\"*50 + \"\\n\")\n",
        "\n",
        "# 3) Tipos de datos (visión general)\n",
        "print(\"3. Verificación de valores con errores de formato:\")\n",
        "print(df.dtypes)\n",
        "print(\"\\n\" + \"=\"*50 + \"\\n\")\n",
        "\n",
        "# 4) Chequeo de categorías en una columna objetivo\n",
        "print(\"4. Verificación de valores con inconsistencias en las categorías:\")\n",
        "print(df['Churn'].unique())\n",
        "print(\"\\n\" + \"=\"*50 + \"\\n\")"
      ],
      "metadata": {
        "colab": {
          "base_uri": "https://localhost:8080/"
        },
        "id": "47eFitvZVliB",
        "outputId": "0a3366dc-93bf-438e-dc2d-e543c32415b8"
      },
      "execution_count": 60,
      "outputs": [
        {
          "output_type": "stream",
          "name": "stdout",
          "text": [
            "1. Verificación de valores ausentes:\n",
            "customerID                     0\n",
            "Churn                        224\n",
            "customer.gender                0\n",
            "customer.SeniorCitizen         0\n",
            "customer.Partner               0\n",
            "customer.Dependents            0\n",
            "customer.tenure                0\n",
            "phone.PhoneService             0\n",
            "phone.MultipleLines            0\n",
            "internet.InternetService       0\n",
            "internet.OnlineSecurity        0\n",
            "internet.OnlineBackup          0\n",
            "internet.DeviceProtection      0\n",
            "internet.TechSupport           0\n",
            "internet.StreamingTV           0\n",
            "internet.StreamingMovies       0\n",
            "account.Contract               0\n",
            "account.PaperlessBilling       0\n",
            "account.PaymentMethod          0\n",
            "account.Charges.Monthly        0\n",
            "account.Charges.Total          0\n",
            "dtype: int64\n",
            "\n",
            "==================================================\n",
            "\n",
            "2. Verificación de valores duplicados:\n",
            "0\n",
            "\n",
            "==================================================\n",
            "\n",
            "3. Verificación de valores con errores de formato:\n",
            "customerID                    object\n",
            "Churn                        float64\n",
            "customer.gender               object\n",
            "customer.SeniorCitizen         int64\n",
            "customer.Partner              object\n",
            "customer.Dependents           object\n",
            "customer.tenure                int64\n",
            "phone.PhoneService            object\n",
            "phone.MultipleLines           object\n",
            "internet.InternetService      object\n",
            "internet.OnlineSecurity       object\n",
            "internet.OnlineBackup         object\n",
            "internet.DeviceProtection     object\n",
            "internet.TechSupport          object\n",
            "internet.StreamingTV          object\n",
            "internet.StreamingMovies      object\n",
            "account.Contract              object\n",
            "account.PaperlessBilling      object\n",
            "account.PaymentMethod         object\n",
            "account.Charges.Monthly      float64\n",
            "account.Charges.Total         object\n",
            "dtype: object\n",
            "\n",
            "==================================================\n",
            "\n",
            "4. Verificación de valores con inconsistencias en las categorías:\n",
            "[ 0.  1. nan]\n",
            "\n",
            "==================================================\n",
            "\n"
          ]
        }
      ]
    },
    {
      "cell_type": "markdown",
      "source": [
        "Depuración inicial de la etiqueta"
      ],
      "metadata": {
        "id": "FFG2rgvxWtHm"
      }
    },
    {
      "cell_type": "code",
      "source": [
        "# Contar las filas con strings vacíos en la columna 'Churn'\n",
        "filas_con_problema = (df['Churn'] == '').sum()\n",
        "print(f\"Se encontraron {filas_con_problema} filas con valores vacíos en la columna 'Churn'.\")\n",
        "\n",
        "# Crear un nuevo DataFrame 'df_limpio' que excluye esas filas\n",
        "df_limpio = df[df['Churn'] != ''].copy()\n",
        "print(\"Se eliminaron las filas problemáticas.\")\n",
        "\n",
        "# Verificación posterior\n",
        "print(\"\\nVerificación en el nuevo DataFrame 'df_limpio':\")\n",
        "print(f\"Tamaño original: {df.shape[0]} filas | Tamaño nuevo: {df_limpio.shape[0]} filas\")\n",
        "print(\"Valores únicos en 'Churn' después de la limpieza:\")\n",
        "print(df_limpio['Churn'].unique())\n",
        "print(\"\\n\" + \"=\"*50 + \"\\n\")"
      ],
      "metadata": {
        "colab": {
          "base_uri": "https://localhost:8080/"
        },
        "id": "dPhHWXzPWuS2",
        "outputId": "b8b4e9da-e08b-40f9-b023-aef813ee2110"
      },
      "execution_count": 26,
      "outputs": [
        {
          "output_type": "stream",
          "name": "stdout",
          "text": [
            "Se encontraron 0 filas con valores vacíos en la columna 'Churn'.\n",
            "Se eliminaron las filas problemáticas.\n",
            "\n",
            "Verificación en el nuevo DataFrame 'df_limpio':\n",
            "Tamaño original: 7267 filas | Tamaño nuevo: 7267 filas\n",
            "Valores únicos en 'Churn' después de la limpieza:\n",
            "[ 0.  1. nan]\n",
            "\n",
            "==================================================\n",
            "\n"
          ]
        }
      ]
    },
    {
      "cell_type": "markdown",
      "source": [
        "Generamos Cuentas_Diarias"
      ],
      "metadata": {
        "id": "xboA_NfRWzQf"
      }
    },
    {
      "cell_type": "code",
      "source": [
        "# Crear la columna 'Cuentas_Diarias'\n",
        "df_limpio['Cuentas_Diarias'] = df_limpio['account.Charges.Monthly'] / 30\n",
        "print(\"Se ha creado la columna 'Cuentas_Diarias'.\")\n",
        "\n",
        "# Vista rápida\n",
        "pd.set_option('display.max_colwidth', None)\n",
        "print(df_limpio[['customerID', 'account.Charges.Monthly', 'Cuentas_Diarias']].head())\n",
        "print(\"\\n\" + \"=\"*50 + \"\\n\")"
      ],
      "metadata": {
        "colab": {
          "base_uri": "https://localhost:8080/"
        },
        "id": "T_7jaKRVW4kF",
        "outputId": "ebf00760-125d-4b0e-ba03-17dd44bdfea0"
      },
      "execution_count": 27,
      "outputs": [
        {
          "output_type": "stream",
          "name": "stdout",
          "text": [
            "Se ha creado la columna 'Cuentas_Diarias'.\n",
            "   customerID  account.Charges.Monthly  Cuentas_Diarias\n",
            "0  0002-ORFBO                     65.6         2.186667\n",
            "1  0003-MKNFE                     59.9         1.996667\n",
            "2  0004-TLHLJ                     73.9         2.463333\n",
            "3  0011-IGKFF                     98.0         3.266667\n",
            "4  0013-EXCHZ                     83.9         2.796667\n",
            "\n",
            "==================================================\n",
            "\n"
          ]
        }
      ]
    },
    {
      "cell_type": "markdown",
      "source": [
        "Estandarización de variables"
      ],
      "metadata": {
        "id": "aKcwdh9IXU-q"
      }
    },
    {
      "cell_type": "code",
      "source": [
        "# Convertir la columna 'Churn' a formato binario (1 para 'Yes', 0 para 'No')\n",
        "# Check if the column is already numeric (0.0 and 1.0) before mapping\n",
        "if df_limpio['Churn'].dtype == 'object':\n",
        "    df_limpio['Churn'] = df_limpio['Churn'].map({'Yes': 1, 'No': 0})\n",
        "print(\"Se ha convertido la columna 'Churn' a formato binario.\")\n",
        "\n",
        "# Renombrar columnas a español\n",
        "mapeo_columnas = {\n",
        "    'customerID': 'ID_Cliente',\n",
        "    'Churn': 'Evasion',\n",
        "    'customer': 'Cliente',\n",
        "    'phone': 'Servicio_Telefonico',\n",
        "    'internet': 'Servicio_Internet',\n",
        "    'account': 'Cuenta',\n",
        "    'Cuentas_Diarias': 'Costo_Diario'\n",
        "}\n",
        "df_limpio = df_limpio.rename(columns=mapeo_columnas)\n",
        "print(\"Se han renombrado las columnas del DataFrame.\")\n",
        "\n",
        "# Verificación\n",
        "print(df_limpio.head())\n",
        "print(\"\\n\" + \"=\"*50 + \"\\n\")"
      ],
      "metadata": {
        "colab": {
          "base_uri": "https://localhost:8080/"
        },
        "id": "8oa2B7PZXWQw",
        "outputId": "b608bcd4-2d9b-407d-c4dc-7eadcac36b9c"
      },
      "execution_count": 28,
      "outputs": [
        {
          "output_type": "stream",
          "name": "stdout",
          "text": [
            "Se han renombrado las columnas del DataFrame.\n",
            "Se ha asegurado que la columna 'Evasion' sea de tipo float.\n",
            "Se ha creado la columna 'Costo_Diario'.\n",
            "Se eliminaron las filas problemáticas con valores ausentes en 'Evasion'.\n",
            "   ID_Cliente  Evasion Cliente.Genero  Cliente.AdultoMayor Cliente.Pareja Cliente.Dependientes  Cliente.Antiguedad Servicio_Telefonico.Servicio Servicio_Telefonico.LineasMultiples Servicio_Internet.Servicio Servicio_Internet.SeguridadOnline Servicio_Internet.RespaldoOnline Servicio_Internet.ProteccionDispositivo Servicio_Internet.SoporteTecnico Servicio_Internet.StreamingTV Servicio_Internet.StreamingPeliculas Cuenta.Contrato Cuenta.FacturacionSinPapel Cuenta.MetodoPago  Cuenta.CargosMensuales Cuenta.CargosTotales  Costo_Diario\n",
            "0  0002-ORFBO      0.0         Female                    0            Yes                  Yes                   9                          Yes                                  No                        DSL                                No                              Yes                                      No                              Yes                           Yes                                   No        One year                        Yes      Mailed check                    65.6                593.3      2.186667\n",
            "1  0003-MKNFE      0.0           Male                    0             No                   No                   9                          Yes                                 Yes                        DSL                                No                               No                                      No                               No                            No                                  Yes  Month-to-month                         No      Mailed check                    59.9                542.4      1.996667\n",
            "2  0004-TLHLJ      1.0           Male                    0             No                   No                   4                          Yes                                  No                Fiber optic                                No                               No                                     Yes                               No                            No                                   No  Month-to-month                        Yes  Electronic check                    73.9               280.85      2.463333\n",
            "3  0011-IGKFF      1.0           Male                    1            Yes                   No                  13                          Yes                                  No                Fiber optic                                No                              Yes                                     Yes                               No                           Yes                                  Yes  Month-to-month                        Yes  Electronic check                    98.0              1237.85      3.266667\n",
            "4  0013-EXCHZ      1.0         Female                    1            Yes                   No                   3                          Yes                                  No                Fiber optic                                No                               No                                      No                              Yes                           Yes                                   No  Month-to-month                        Yes      Mailed check                    83.9                267.4      2.796667\n",
            "\n",
            "==================================================\n",
            "\n",
            "<class 'pandas.core.frame.DataFrame'>\n",
            "Index: 7043 entries, 0 to 7266\n",
            "Data columns (total 22 columns):\n",
            " #   Column                                   Non-Null Count  Dtype  \n",
            "---  ------                                   --------------  -----  \n",
            " 0   ID_Cliente                               7043 non-null   object \n",
            " 1   Evasion                                  7043 non-null   float64\n",
            " 2   Cliente.Genero                           7043 non-null   object \n",
            " 3   Cliente.AdultoMayor                      7043 non-null   int64  \n",
            " 4   Cliente.Pareja                           7043 non-null   object \n",
            " 5   Cliente.Dependientes                     7043 non-null   object \n",
            " 6   Cliente.Antiguedad                       7043 non-null   int64  \n",
            " 7   Servicio_Telefonico.Servicio             7043 non-null   object \n",
            " 8   Servicio_Telefonico.LineasMultiples      7043 non-null   object \n",
            " 9   Servicio_Internet.Servicio               7043 non-null   object \n",
            " 10  Servicio_Internet.SeguridadOnline        7043 non-null   object \n",
            " 11  Servicio_Internet.RespaldoOnline         7043 non-null   object \n",
            " 12  Servicio_Internet.ProteccionDispositivo  7043 non-null   object \n",
            " 13  Servicio_Internet.SoporteTecnico         7043 non-null   object \n",
            " 14  Servicio_Internet.StreamingTV            7043 non-null   object \n",
            " 15  Servicio_Internet.StreamingPeliculas     7043 non-null   object \n",
            " 16  Cuenta.Contrato                          7043 non-null   object \n",
            " 17  Cuenta.FacturacionSinPapel               7043 non-null   object \n",
            " 18  Cuenta.MetodoPago                        7043 non-null   object \n",
            " 19  Cuenta.CargosMensuales                   7043 non-null   float64\n",
            " 20  Cuenta.CargosTotales                     7043 non-null   object \n",
            " 21  Costo_Diario                             7043 non-null   float64\n",
            "dtypes: float64(3), int64(2), object(17)\n",
            "memory usage: 1.2+ MB\n",
            "None\n"
          ]
        }
      ]
    },
    {
      "cell_type": "markdown",
      "source": [
        "Estadística descriptiva"
      ],
      "metadata": {
        "id": "qpBV87AwXc8l"
      }
    },
    {
      "cell_type": "code",
      "source": [
        "# Numéricas\n",
        "print(\"Análisis Descriptivo de Columnas Numéricas:\")\n",
        "print(df_limpio.describe())\n",
        "print(\"\\n\" + \"=\"*50 + \"\\n\")\n",
        "\n",
        "# Categóricas\n",
        "print(\"Análisis Descriptivo de Columnas Categóricas:\")\n",
        "print(df_limpio.describe(include=['object']))\n",
        "print(\"\\n\" + \"=\"*50 + \"\\n\")"
      ],
      "metadata": {
        "colab": {
          "base_uri": "https://localhost:8080/"
        },
        "id": "Xani_IhOXgp4",
        "outputId": "bd995a7b-7a76-49e3-9f0f-b547cda9a044"
      },
      "execution_count": 41,
      "outputs": [
        {
          "output_type": "stream",
          "name": "stdout",
          "text": [
            "Análisis Descriptivo de Columnas Numéricas:\n",
            "             Churn  customer.SeniorCitizen  customer.tenure  account.Charges.Monthly\n",
            "count  7043.000000             7267.000000      7267.000000              7267.000000\n",
            "mean      0.265370                0.162653        32.346498                64.720098\n",
            "std       0.441561                0.369074        24.571773                30.129572\n",
            "min       0.000000                0.000000         0.000000                18.250000\n",
            "25%       0.000000                0.000000         9.000000                35.425000\n",
            "50%       0.000000                0.000000        29.000000                70.300000\n",
            "75%       1.000000                0.000000        55.000000                89.875000\n",
            "max       1.000000                1.000000        72.000000               118.750000\n",
            "\n",
            "==================================================\n",
            "\n",
            "Análisis Descriptivo de Columnas Categóricas:\n",
            "        customerID customer.gender customer.Partner customer.Dependents phone.PhoneService phone.MultipleLines internet.InternetService internet.OnlineSecurity internet.OnlineBackup internet.DeviceProtection internet.TechSupport internet.StreamingTV internet.StreamingMovies account.Contract account.PaperlessBilling account.PaymentMethod account.Charges.Total\n",
            "count         7267            7267             7267                7267               7267                7267                     7267                    7267                  7267                      7267                 7267                 7267                     7267             7267                     7267                  7267                  7267\n",
            "unique        7267               2                2                   2                  2                   3                        3                       3                     3                         3                    3                    3                        3                3                        2                     4                  6531\n",
            "top     9995-HOTOH            Male               No                  No                Yes                  No              Fiber optic                      No                    No                        No                   No                   No                       No   Month-to-month                      Yes      Electronic check                  20.2\n",
            "freq             1            3675             3749                5086               6560                3495                     3198                    3608                  3182                      3195                 3582                 2896                     2870             4005                     4311                  2445                    11\n",
            "\n",
            "==================================================\n",
            "\n"
          ]
        }
      ]
    },
    {
      "cell_type": "markdown",
      "source": [
        "Balance de la variable objetivo"
      ],
      "metadata": {
        "id": "kjv4jpUVXkd3"
      }
    },
    {
      "cell_type": "code",
      "source": [
        "# Importar las librerías necesarias\n",
        "import pandas as pd\n",
        "import matplotlib.pyplot as plt\n",
        "\n",
        "# --- Normalizar la columna Evasion a 0/1, sin importar cómo venga ---\n",
        "# Si no existe 'Evasion', intenta con 'Churn'\n",
        "col = 'Evasion' if 'Evasion' in df_limpio.columns else 'Churn'\n",
        "\n",
        "# Pásala a string, limpia y mapea a 0/1 (cubre Yes/No, 1/0, True/False)\n",
        "ev = (df_limpio[col]\n",
        "      .astype(str).str.strip().str.lower()\n",
        "      .map({'yes': 1, 'no': 0, '1': 1, '0': 0, 'true': 1, 'false': 0}))\n",
        "\n",
        "# Si todo quedó NaN (ya era numérica o booleana), intenta convertir a número\n",
        "if ev.notna().sum() == 0:\n",
        "    ev = pd.to_numeric(df_limpio[col], errors='coerce')\n",
        "\n",
        "# Conteos robustos: siempre devuelve [0, 1] aunque falte alguno\n",
        "distribucion_evasion = ev.value_counts().reindex([0, 1], fill_value=0)\n",
        "\n",
        "print(\"Análisis de la Distribución de Evasión:\")\n",
        "print(distribucion_evasion)\n",
        "print(\"\\n\" + \"=\"*50 + \"\\n\")\n",
        "\n",
        "# --- Gráfico ---\n",
        "etiquetas = ['No', 'Sí']\n",
        "valores = distribucion_evasion.tolist()\n",
        "\n",
        "plt.figure(figsize=(8, 6))\n",
        "bars = plt.bar(etiquetas, valores, color=['green', 'blue'])\n",
        "plt.title('Distribución de Clientes por Evasión')\n",
        "plt.ylabel('Cantidad de Clientes')\n",
        "plt.xlabel('Evasión')\n",
        "\n",
        "# Etiquetas encima de cada barra\n",
        "for bar in bars:\n",
        "    yval = bar.get_height()\n",
        "    plt.text(bar.get_x() + bar.get_width()/2.0,\n",
        "             yval,\n",
        "             f'{int(yval)}',\n",
        "             va='bottom', ha='center', fontweight='bold')\n",
        "\n",
        "plt.show()"
      ],
      "metadata": {
        "colab": {
          "base_uri": "https://localhost:8080/",
          "height": 704
        },
        "id": "yV3rRhS2Xolu",
        "outputId": "a5761487-2fb7-49a7-e303-157a8b0781af"
      },
      "execution_count": 44,
      "outputs": [
        {
          "output_type": "stream",
          "name": "stdout",
          "text": [
            "Análisis de la Distribución de Evasión:\n",
            "Churn\n",
            "0    5174\n",
            "1    1869\n",
            "Name: count, dtype: int64\n",
            "\n",
            "==================================================\n",
            "\n"
          ]
        },
        {
          "output_type": "display_data",
          "data": {
            "text/plain": [
              "<Figure size 800x600 with 1 Axes>"
            ],
            "image/png": "[encoded data removed]"
          },
          "metadata": {}
        }
      ]
    },
    {
      "cell_type": "code",
      "source": [
        "# Importar las librerías necesarias\n",
        "import seaborn as sns\n",
        "\n",
        "# Crear un nuevo DataFrame 'df_limpio'\n",
        "df_limpio = df[df['Churn'] != ''].copy()\n",
        "print(\"Se eliminaron las filas problemáticas.\")\n",
        "\n",
        "# Crear la columna 'Cuentas_Diarias'\n",
        "df_limpio['Cuentas_Diarias'] = df_limpio['account'].apply(lambda x: x['Charges']['Monthly'] / 30)\n",
        "print(\"Se ha creado la columna 'Cuentas_Diarias'.\")\n",
        "\n",
        "# Convertir la columna 'Churn' a formato binario (1 para 'Yes', 0 para 'No')\n",
        "df_limpio['Churn'] = df_limpio['Churn'].map({'Yes': 1, 'No': 0})\n",
        "print(\"Se ha convertido la columna 'Churn' a formato binario.\")\n",
        "\n",
        "# Renombrar las columnas a español para mayor claridad\n",
        "mapeo_columnas = {\n",
        "    'customerID': 'ID_Cliente',\n",
        "    'Churn': 'Evasion',\n",
        "    'customer': 'Cliente',\n",
        "    'phone': 'Servicio_Telefonico',\n",
        "    'internet': 'Servicio_Internet',\n",
        "    'account': 'Cuenta',\n",
        "    'Cuentas_Diarias': 'Costo_Diario'\n",
        "}\n",
        "df_limpio = df_limpio.rename(columns=mapeo_columnas)\n",
        "print(\"Se han renombrado las columnas del DataFrame.\")\n",
        "\n",
        "#---Normalización de Datos Anidados---\n",
        "\n",
        "# Normalizar las columnas con diccionarios\n",
        "df_cliente_norm = pd.json_normalize(df_limpio['Cliente'])\n",
        "df_internet_norm = pd.json_normalize(df_limpio['Servicio_Internet'])\n",
        "df_cuenta_norm = pd.json_normalize(df_limpio['Cuenta'])\n",
        "\n",
        "# Unir todas las partes normalizadas en un solo DataFrame final\n",
        "df_final = df_limpio[['ID_Cliente', 'Evasion', 'Costo_Diario']].copy()\n",
        "df_final = pd.concat([df_final, df_cliente_norm, df_internet_norm, df_cuenta_norm], axis=1)\n",
        "\n",
        "#---Corrección de Tipos de Datos Numéricos---\n",
        "\n",
        "# La columna 'Charges.Total' puede contener espacios y necesita ser convertida a numérica\n",
        "df_final['Charges.Total'] = pd.to_numeric(df_final['Charges.Total'], errors='coerce')\n",
        "df_final['Charges.Total'] = df_final['Charges.Total'].fillna(0)\n",
        "\n",
        "#---Análisis y Visualización de Evasión por Variable Numérica---\n",
        "\n",
        "# Lista de variables numéricas a analizar\n",
        "variables_numericas = ['tenure', 'Charges.Monthly', 'Charges.Total']\n",
        "\n",
        "# Nombres en español para los títulos de los gráficos\n",
        "nombres_en_espanol_num = ['Antigüedad (meses)', 'Cargos Mensuales', 'Cargos Totales']\n",
        "\n",
        "# Crear una figura con múltiples subplots para asegurar un tamaño consistente\n",
        "fig, axes = plt.subplots(nrows=len(variables_numericas), ncols=1, figsize=(10, 6 * len(variables_numericas)))\n",
        "\n",
        "# Desarrollo del gráfico\n",
        "for i, variable in enumerate(variables_numericas):\n",
        "\n",
        "    # Seleccionar el subplot (ax) correspondiente para cada gráfico\n",
        "    ax = axes[i]\n",
        "\n",
        "    # Graficar la distribución para clientes que no hicieron evasión (Evasion = 0)\n",
        "    sns.kdeplot(df_final[df_final['Evasion'] == 0][variable], label='No', fill=True, color='#007ACC', ax=ax)\n",
        "\n",
        "    # Graficar la distribución para clientes que sí hicieron evasión (Evasion = 1)\n",
        "    sns.kdeplot(df_final[df_final['Evasion'] == 1][variable], label='Sí', fill=True, color='#CC0000', ax=ax)\n",
        "\n",
        "    # Configurar el gráfico\n",
        "    ax.set_title(f'Distribución de {nombres_en_espanol_num[i]}')\n",
        "    ax.set_xlabel(nombres_en_espanol_num[i])\n",
        "    ax.set_ylabel('Densidad')\n",
        "    ax.legend(title='Evasión')\n",
        "\n",
        "# Ajustar el layout y mostrar el gráfico\n",
        "plt.tight_layout(rect=[0, 0, 1, 0.98])\n",
        "plt.show()"
      ],
      "metadata": {
        "colab": {
          "base_uri": "https://localhost:8080/",
          "height": 564
        },
        "id": "RKzykjlEeyjq",
        "outputId": "047c7e91-f34a-43b0-e6e7-ffaa700955ce"
      },
      "execution_count": 56,
      "outputs": [
        {
          "output_type": "stream",
          "name": "stdout",
          "text": [
            "Se eliminaron las filas problemáticas.\n"
          ]
        },
        {
          "output_type": "error",
          "ename": "KeyError",
          "evalue": "'account'",
          "traceback": [
            "\u001b[0;31m---------------------------------------------------------------------------\u001b[0m",
            "\u001b[0;31mKeyError\u001b[0m                                  Traceback (most recent call last)",
            "\u001b[0;32m/usr/local/lib/python3.11/dist-packages/pandas/core/indexes/base.py\u001b[0m in \u001b[0;36mget_loc\u001b[0;34m(self, key)\u001b[0m\n\u001b[1;32m   3804\u001b[0m         \u001b[0;32mtry\u001b[0m\u001b[0;34m:\u001b[0m\u001b[0;34m\u001b[0m\u001b[0;34m\u001b[0m\u001b[0m\n\u001b[0;32m-> 3805\u001b[0;31m             \u001b[0;32mreturn\u001b[0m \u001b[0mself\u001b[0m\u001b[0;34m.\u001b[0m\u001b[0m_engine\u001b[0m\u001b[0;34m.\u001b[0m\u001b[0mget_loc\u001b[0m\u001b[0;34m(\u001b[0m\u001b[0mcasted_key\u001b[0m\u001b[0;34m)\u001b[0m\u001b[0;34m\u001b[0m\u001b[0;34m\u001b[0m\u001b[0m\n\u001b[0m\u001b[1;32m   3806\u001b[0m         \u001b[0;32mexcept\u001b[0m \u001b[0mKeyError\u001b[0m \u001b[0;32mas\u001b[0m \u001b[0merr\u001b[0m\u001b[0;34m:\u001b[0m\u001b[0;34m\u001b[0m\u001b[0;34m\u001b[0m\u001b[0m\n",
            "\u001b[0;32mindex.pyx\u001b[0m in \u001b[0;36mpandas._libs.index.IndexEngine.get_loc\u001b[0;34m()\u001b[0m\n",
            "\u001b[0;32mindex.pyx\u001b[0m in \u001b[0;36mpandas._libs.index.IndexEngine.get_loc\u001b[0;34m()\u001b[0m\n",
            "\u001b[0;32mpandas/_libs/hashtable_class_helper.pxi\u001b[0m in \u001b[0;36mpandas._libs.hashtable.PyObjectHashTable.get_item\u001b[0;34m()\u001b[0m\n",
            "\u001b[0;32mpandas/_libs/hashtable_class_helper.pxi\u001b[0m in \u001b[0;36mpandas._libs.hashtable.PyObjectHashTable.get_item\u001b[0;34m()\u001b[0m\n",
            "\u001b[0;31mKeyError\u001b[0m: 'account'",
            "\nThe above exception was the direct cause of the following exception:\n",
            "\u001b[0;31mKeyError\u001b[0m                                  Traceback (most recent call last)",
            "\u001b[0;32m/tmp/ipython-input-3980633156.py\u001b[0m in \u001b[0;36m<cell line: 0>\u001b[0;34m()\u001b[0m\n\u001b[1;32m      7\u001b[0m \u001b[0;34m\u001b[0m\u001b[0m\n\u001b[1;32m      8\u001b[0m \u001b[0;31m# Crear la columna 'Cuentas_Diarias'\u001b[0m\u001b[0;34m\u001b[0m\u001b[0;34m\u001b[0m\u001b[0m\n\u001b[0;32m----> 9\u001b[0;31m \u001b[0mdf_limpio\u001b[0m\u001b[0;34m[\u001b[0m\u001b[0;34m'Cuentas_Diarias'\u001b[0m\u001b[0;34m]\u001b[0m \u001b[0;34m=\u001b[0m \u001b[0mdf_limpio\u001b[0m\u001b[0;34m[\u001b[0m\u001b[0;34m'account'\u001b[0m\u001b[0;34m]\u001b[0m\u001b[0;34m.\u001b[0m\u001b[0mapply\u001b[0m\u001b[0;34m(\u001b[0m\u001b[0;32mlambda\u001b[0m \u001b[0mx\u001b[0m\u001b[0;34m:\u001b[0m \u001b[0mx\u001b[0m\u001b[0;34m[\u001b[0m\u001b[0;34m'Charges'\u001b[0m\u001b[0;34m]\u001b[0m\u001b[0;34m[\u001b[0m\u001b[0;34m'Monthly'\u001b[0m\u001b[0;34m]\u001b[0m \u001b[0;34m/\u001b[0m \u001b[0;36m30\u001b[0m\u001b[0;34m)\u001b[0m\u001b[0;34m\u001b[0m\u001b[0;34m\u001b[0m\u001b[0m\n\u001b[0m\u001b[1;32m     10\u001b[0m \u001b[0mprint\u001b[0m\u001b[0;34m(\u001b[0m\u001b[0;34m\"Se ha creado la columna 'Cuentas_Diarias'.\"\u001b[0m\u001b[0;34m)\u001b[0m\u001b[0;34m\u001b[0m\u001b[0;34m\u001b[0m\u001b[0m\n\u001b[1;32m     11\u001b[0m \u001b[0;34m\u001b[0m\u001b[0m\n",
            "\u001b[0;32m/usr/local/lib/python3.11/dist-packages/pandas/core/frame.py\u001b[0m in \u001b[0;36m__getitem__\u001b[0;34m(self, key)\u001b[0m\n\u001b[1;32m   4100\u001b[0m             \u001b[0;32mif\u001b[0m \u001b[0mself\u001b[0m\u001b[0;34m.\u001b[0m\u001b[0mcolumns\u001b[0m\u001b[0;34m.\u001b[0m\u001b[0mnlevels\u001b[0m \u001b[0;34m>\u001b[0m \u001b[0;36m1\u001b[0m\u001b[0;34m:\u001b[0m\u001b[0;34m\u001b[0m\u001b[0;34m\u001b[0m\u001b[0m\n\u001b[1;32m   4101\u001b[0m                 \u001b[0;32mreturn\u001b[0m \u001b[0mself\u001b[0m\u001b[0;34m.\u001b[0m\u001b[0m_getitem_multilevel\u001b[0m\u001b[0;34m(\u001b[0m\u001b[0mkey\u001b[0m\u001b[0;34m)\u001b[0m\u001b[0;34m\u001b[0m\u001b[0;34m\u001b[0m\u001b[0m\n\u001b[0;32m-> 4102\u001b[0;31m             \u001b[0mindexer\u001b[0m \u001b[0;34m=\u001b[0m \u001b[0mself\u001b[0m\u001b[0;34m.\u001b[0m\u001b[0mcolumns\u001b[0m\u001b[0;34m.\u001b[0m\u001b[0mget_loc\u001b[0m\u001b[0;34m(\u001b[0m\u001b[0mkey\u001b[0m\u001b[0;34m)\u001b[0m\u001b[0;34m\u001b[0m\u001b[0;34m\u001b[0m\u001b[0m\n\u001b[0m\u001b[1;32m   4103\u001b[0m             \u001b[0;32mif\u001b[0m \u001b[0mis_integer\u001b[0m\u001b[0;34m(\u001b[0m\u001b[0mindexer\u001b[0m\u001b[0;34m)\u001b[0m\u001b[0;34m:\u001b[0m\u001b[0;34m\u001b[0m\u001b[0;34m\u001b[0m\u001b[0m\n\u001b[1;32m   4104\u001b[0m                 \u001b[0mindexer\u001b[0m \u001b[0;34m=\u001b[0m \u001b[0;34m[\u001b[0m\u001b[0mindexer\u001b[0m\u001b[0;34m]\u001b[0m\u001b[0;34m\u001b[0m\u001b[0;34m\u001b[0m\u001b[0m\n",
            "\u001b[0;32m/usr/local/lib/python3.11/dist-packages/pandas/core/indexes/base.py\u001b[0m in \u001b[0;36mget_loc\u001b[0;34m(self, key)\u001b[0m\n\u001b[1;32m   3810\u001b[0m             ):\n\u001b[1;32m   3811\u001b[0m                 \u001b[0;32mraise\u001b[0m \u001b[0mInvalidIndexError\u001b[0m\u001b[0;34m(\u001b[0m\u001b[0mkey\u001b[0m\u001b[0;34m)\u001b[0m\u001b[0;34m\u001b[0m\u001b[0;34m\u001b[0m\u001b[0m\n\u001b[0;32m-> 3812\u001b[0;31m             \u001b[0;32mraise\u001b[0m \u001b[0mKeyError\u001b[0m\u001b[0;34m(\u001b[0m\u001b[0mkey\u001b[0m\u001b[0;34m)\u001b[0m \u001b[0;32mfrom\u001b[0m \u001b[0merr\u001b[0m\u001b[0;34m\u001b[0m\u001b[0;34m\u001b[0m\u001b[0m\n\u001b[0m\u001b[1;32m   3813\u001b[0m         \u001b[0;32mexcept\u001b[0m \u001b[0mTypeError\u001b[0m\u001b[0;34m:\u001b[0m\u001b[0;34m\u001b[0m\u001b[0;34m\u001b[0m\u001b[0m\n\u001b[1;32m   3814\u001b[0m             \u001b[0;31m# If we have a listlike key, _check_indexing_error will raise\u001b[0m\u001b[0;34m\u001b[0m\u001b[0;34m\u001b[0m\u001b[0m\n",
            "\u001b[0;31mKeyError\u001b[0m: 'account'"
          ]
        }
      ]
    },
    {
      "cell_type": "markdown",
      "source": [
        "# Telecom X — Informe de Análisis Exploratorio (EDA) de Evasión (Churn)\n",
        "\n",
        "## 1) Propósito\n",
        "Entender qué factores están asociados a la **cancelación del servicio (Churn)** en Telecom X para priorizar acciones de retención y preparar un dataset **listo para modelado**.\n",
        "\n",
        "## 2) Datos y origen\n",
        "- **Fuente:** JSON disponible vía URL (GitHub).\n",
        "- **Estructura:** combinación de campos planos y **diccionarios anidados** (p. ej., `customer`, `phone`, `internet`, `account`).\n",
        "- **Variable objetivo:** `Churn` con valores \"Yes\"/\"No\" (posteriormente binarizada a 1/0).\n",
        "\n",
        "## 3) Proceso de preparación (ETL)\n",
        "- **Extracción:** carga directa del JSON en un `DataFrame` (FASE 1).\n",
        "- **Diagnóstico inicial:** revisión de columnas, tipos y ejemplos de filas.\n",
        "- **Calidad de datos:**\n",
        "  - Detección de **valores ausentes**, **duplicados**, **tipos inesperados** y **categorías fuera de dominio**.\n",
        "- **Limpieza mínima:**\n",
        "  - Eliminación de filas con `Churn` vacío.\n",
        "  - Binarización de `Churn` → `Evasion` (1 = Yes, 0 = No).\n",
        "  - **Normalización (desanidado)** de `Cliente`, `Servicio_Internet` y `Cuenta` para análisis categórico/numérico.\n",
        "  - Derivada **`Cuentas_Diarias` = Charges.Monthly / 30**.\n",
        "  - Renombrado de columnas a español para facilitar lectura.\n",
        "- **Listo para EDA:** dataset unificado con variables categóricas y numéricas comparables.\n",
        "\n",
        "## 4) Hallazgos principales del EDA\n",
        "> Nota: los puntos siguientes resumen los patrones que se observan al graficar y tabular con el código del notebook. No incluyen métricas absolutas para mantener el informe general y reutilizable.\n",
        "\n",
        "**4.1 Churn global**\n",
        "- La distribución de `Evasion` muestra el **balance** entre clientes que permanecen y clientes que cancelan (gráfico de barras en la FASE V).\n",
        "\n",
        "**4.2 Segmentación por categorías (FASE VI)**\n",
        "- **Contrato (`Contract`)**: los clientes con **Month-to-month** tienden a concentrar más evasión que los de **One year** o **Two year**.\n",
        "- **Método de pago (`PaymentMethod`)**: se observa mayor cancelación en **Electronic check** frente a opciones automáticas (transferencia o tarjeta).\n",
        "- **Género (`gender`)**: usualmente muestra **poca diferencia** en la tasa de evasión; se incluye para completitud.\n",
        "\n",
        "**4.3 Variables numéricas (FASE VII)**\n",
        "- **Antigüedad (`tenure`)**: a menor tiempo con la compañía, **mayor probabilidad** de evasión.\n",
        "- **Cargos mensuales (`Charges.Monthly`)**: niveles más altos se asocian con **mayor churn** en varios segmentos.\n",
        "- **Cargos totales (`Charges.Total`)**: tiende a ser más bajo en quienes cancelan temprano y mayor en quienes permanecen.\n",
        "\n",
        "**4.4 Señales de producto/servicio (si están presentes)**\n",
        "- Contar con **soporte técnico** y **seguridad en línea** suele asociarse a **menor evasión** (clientes mejor atendidos/asegurados).\n",
        "\n",
        "## 5) Visualizaciones generadas\n",
        "- **Distribución de Evasión** (barras): proporción de clientes que se quedan vs. cancelan.\n",
        "- **Churn por categoría** (barras apiladas): `Género`, `Contrato`, `Método de pago` (con etiquetas traducidas).\n",
        "- **Distribuciones numéricas** (KDE por grupo de evasión): `tenure`, `Charges.Monthly`, `Charges.Total`.\n",
        "\n",
        "## 6) Implicaciones para el negocio\n",
        "- **Ofertas y beneficios**: priorizar **retenciones** en clientes **Month-to-month** y/o con **Electronic check**.\n",
        "- **Experiencia de cliente**: reforzar **soporte/seguridad** en internet para segmentos de riesgo.\n",
        "- **Precio y valor**: revisar estructuras de cargos para perfiles sensibles a `Charges.Monthly`.\n",
        "- **Onboarding**: programas de fidelización en los **primeros meses** (alto riesgo por `tenure` bajo).\n",
        "\n",
        "## 7) Recomendaciones de datos\n",
        "- Estandarizar dominios categóricos (Yes/No, Contract, PaymentMethod, InternetService).\n",
        "- Asegurar tipos numéricos y **rangos válidos** (`tenure ≥ 0`, cargos ≥ 0).\n",
        "- Documentar criterios para **imputación** (si aparecen NA críticos).\n",
        "- Definir regla de **deduplicación** por `customerID` cuando aplique.\n",
        "\n",
        "## 8) Próximos pasos (modelado)\n",
        "- One-hot encoding de categóricas + escalado de numéricas.\n",
        "- Baselines: **Regresión logística** / **árboles** / **gradient boosting**.\n",
        "- Métricas: **ROC-AUC**, **PR-AUC**, **Lift**, **calibración**.\n",
        "- Validación apropiada (idealmente temporal si hay fechas).\n",
        "\n",
        "---\n",
        "\n",
        "# Telecom X — Descripción del Proyecto\n",
        "\n",
        "## Objetivo\n",
        "Reducir la **evasión de clientes** mediante análisis de datos y preparación de un dataset de calidad que permita entrenar modelos predictivos y diseñar estrategias de retención accionables.\n",
        "\n",
        "## Alcance\n",
        "1. **ETL reproducible**: extracción desde API, limpieza, normalización y enriquecimiento (derivadas como `Costo_Diario`).\n",
        "2. **EDA enfocado en churn**: vistas por contrato, método de pago, internet/servicios y variables de facturación/antigüedad.\n",
        "3. **Informe** con hallazgos y recomendaciones para negocio y para ciencia de datos.\n",
        "4. **Dataset listo para modelado** con `Evasion` binaria y features curadas.\n",
        "\n",
        "## Entregables\n",
        "- **Notebook/Colab** con:\n",
        "  - Carga de datos (FASE 1), transformación (FASE 2) y chequeos de calidad.\n",
        "  - EDA categórico y numérico (FASES V–VII).\n",
        "  - Gráficos y tablas de apoyo.\n",
        "- **Informe EDA** (esta sección) para lectura ejecutiva.\n",
        "- **CSV procesado** con variables limpias y listas para ML.\n",
        "\n",
        "## Metodología (resumen)\n",
        "- **Extracción:** JSON → `DataFrame`.\n",
        "- **Transformación:** limpieza de `Churn`, binarización y renombres; normalización de campos anidados.\n",
        "- **Enriquecimiento:** `Costo_Diario` a partir de cargos mensuales.\n",
        "- **Exploración:** distribución de `Evasion`, segmentación por categorías, densidades para numéricas.\n",
        "- **Criterios de calidad:** NA, duplicados, tipos, rangos y dominios categóricos."
      ],
      "metadata": {
        "id": "hg0ReyyhhFcu"
      }
    }
  ]
}